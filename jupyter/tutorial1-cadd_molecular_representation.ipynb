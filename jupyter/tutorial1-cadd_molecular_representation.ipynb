{
 "cells": [
  {
   "cell_type": "code",
   "execution_count": 1,
   "metadata": {},
   "outputs": [
    {
     "name": "stdout",
     "output_type": "stream",
     "text": [
      "2019.03.4\n"
     ]
    }
   ],
   "source": [
    "import rdkit # compchem library\n",
    "from rdkit import Chem\n",
    "from rdkit.Chem import AllChem\n",
    "from rdkit.Chem.Draw import IPythonConsole # use this to draw molecules in the notebook\n",
    "from rdkit import rdBase\n",
    "print(rdBase.rdkitVersion)"
   ]
  },
  {
   "cell_type": "code",
   "execution_count": 2,
   "metadata": {},
   "outputs": [],
   "source": [
    "import py3Dmol # for 3D viz"
   ]
  },
  {
   "cell_type": "code",
   "execution_count": 3,
   "metadata": {},
   "outputs": [
    {
     "data": {
      "image/png": "[encoded data removed]",
      "text/plain": [
       "<rdkit.Chem.rdchem.Mol at 0x7febe610a580>"
      ]
     },
     "execution_count": 3,
     "metadata": {},
     "output_type": "execute_result"
    }
   ],
   "source": [
    "Chem.MolFromSmiles('[H]O[H]') # a simple molecule, water"
   ]
  },
  {
   "cell_type": "markdown",
   "metadata": {},
   "source": [
    "# A More Complex Example - Coffee (Caffeine, C8H10N4O2)"
   ]
  },
  {
   "cell_type": "markdown",
   "metadata": {},
   "source": [
    "<img src=\"https://upload.wikimedia.org/wikipedia/commons/thumb/8/8c/Caffeine_structure.svg/1200px-Caffeine_structure.svg.png\" width=\"300\" height=\"300\" alt=\"Image of Caffeine molecule\" />"
   ]
  },
  {
   "cell_type": "code",
   "execution_count": 4,
   "metadata": {},
   "outputs": [
    {
     "data": {
      "image/png": "[encoded data removed]",
      "text/plain": [
       "<rdkit.Chem.rdchem.Mol at 0x7febe611a580>"
      ]
     },
     "execution_count": 4,
     "metadata": {},
     "output_type": "execute_result"
    }
   ],
   "source": [
    "# a little more complex example - coffee (caffeine) -\n",
    "Chem.MolFromSmiles(\"CN1C=NC2=C1C(=O)N(C(=O)N2C)C\")"
   ]
  },
  {
   "cell_type": "code",
   "execution_count": 6,
   "metadata": {},
   "outputs": [
    {
     "data": {
      "application/3dmoljs_load.v0": "<div id=\"3dmolviewer_15706117178001757\"  style=\"position: relative; width: 400px; height: 400px\">\n        <p id=\"3dmolwarning_15706117178001757\" style=\"background-color:#ffcccc;color:black\">You appear to be running in JupyterLab (or JavaScript failed to load for some other reason).  You need to install the 3dmol extension: <br>\n        <tt>jupyter labextension install jupyterlab_3dmol</tt></p>\n        </div>\n<script>\n\nvar loadScriptAsync = function(uri){\n  return new Promise((resolve, reject) => {\n    var tag = document.createElement('script');\n    tag.src = uri;\n    tag.async = true;\n    tag.onload = () => {\n      resolve();\n    };\n  var firstScriptTag = document.getElementsByTagName('script')[0];\n  firstScriptTag.parentNode.insertBefore(tag, firstScriptTag);\n});\n};\n\nif(typeof $3Dmolpromise === 'undefined') {\n$3Dmolpromise = null;\n  $3Dmolpromise = loadScriptAsync('https://3dmol.csb.pitt.edu/build/3Dmol.js');\n}\n\nvar viewer_15706117178001757 = null;\nvar warn = document.getElementById(\"3dmolwarning_15706117178001757\");\nif(warn) {\n    warn.parentNode.removeChild(warn);\n}\n$3Dmolpromise.then(function() {\nviewer_15706117178001757 = $3Dmol.createViewer($(\"#3dmolviewer_15706117178001757\"),{backgroundColor:\"white\"});\n\tviewer_15706117178001757.addModel(\"\\n     RDKit          3D\\n\\n 24 25  0  0  0  0  0  0  0  0999 V2000\\n    3.1805   -0.9798   -0.1737 C   0  0  0  0  0  0  0  0  0  0  0  0\\n    2.1490    0.0036    0.0009 N   0  0  0  0  0  0  0  0  0  0  0  0\\n    2.4044    1.3066    0.2275 C   0  0  0  0  0  0  0  0  0  0  0  0\\n    1.2369    1.9919    0.3506 N   0  0  0  0  0  0  0  0  0  0  0  0\\n    0.2253    1.1226    0.2020 C   0  0  0  0  0  0  0  0  0  0  0  0\\n    0.8240   -0.1010   -0.0133 C   0  0  0  0  0  0  0  0  0  0  0  0\\n    0.0131   -1.1928   -0.2013 C   0  0  0  0  0  0  0  0  0  0  0  0\\n    0.5006   -2.3316   -0.4015 O   0  0  0  0  0  0  0  0  0  0  0  0\\n   -1.3259   -1.0806   -0.1777 N   0  0  0  0  0  0  0  0  0  0  0  0\\n   -1.8519    0.1449    0.0377 C   0  0  0  0  0  0  0  0  0  0  0  0\\n   -3.1156    0.2722    0.0637 O   0  0  0  0  0  0  0  0  0  0  0  0\\n   -1.1257    1.2519    0.2286 N   0  0  0  0  0  0  0  0  0  0  0  0\\n   -1.7278    2.5589    0.4584 C   0  0  0  0  0  0  0  0  0  0  0  0\\n   -2.2013   -2.2330   -0.3761 C   0  0  0  0  0  0  0  0  0  0  0  0\\n    2.8989   -1.9991    0.0607 H   0  0  0  0  0  0  0  0  0  0  0  0\\n    3.5927   -0.8449   -1.2107 H   0  0  0  0  0  0  0  0  0  0  0  0\\n    4.0480   -0.7169    0.5011 H   0  0  0  0  0  0  0  0  0  0  0  0\\n    3.3796    1.7849    0.3080 H   0  0  0  0  0  0  0  0  0  0  0  0\\n   -1.4059    3.2337   -0.3664 H   0  0  0  0  0  0  0  0  0  0  0  0\\n   -1.5076    2.9399    1.4587 H   0  0  0  0  0  0  0  0  0  0  0  0\\n   -2.8327    2.4282    0.3794 H   0  0  0  0  0  0  0  0  0  0  0  0\\n   -2.6928   -2.5333    0.5754 H   0  0  0  0  0  0  0  0  0  0  0  0\\n   -3.0251   -1.9703   -1.0810 H   0  0  0  0  0  0  0  0  0  0  0  0\\n   -1.6405   -3.0560   -0.8512 H   0  0  0  0  0  0  0  0  0  0  0  0\\n  1  2  1  0\\n  2  3  1  0\\n  3  4  2  0\\n  4  5  1  0\\n  5  6  2  0\\n  6  7  1  0\\n  7  8  2  0\\n  7  9  1  0\\n  9 10  1  0\\n 10 11  2  0\\n 10 12  1  0\\n 12 13  1  0\\n  9 14  1  0\\n  6  2  1  0\\n 12  5  1  0\\n  1 15  1  0\\n  1 16  1  0\\n  1 17  1  0\\n  3 18  1  0\\n 13 19  1  0\\n 13 20  1  0\\n 13 21  1  0\\n 14 22  1  0\\n 14 23  1  0\\n 14 24  1  0\\nM  END\\n\",\"sdf\");\n\tviewer_15706117178001757.setStyle({\"stick\": {}});\n\tviewer_15706117178001757.setBackgroundColor(\"0xffffff\");\n\tviewer_15706117178001757.zoomTo();\nviewer_15706117178001757.render();\n});\n</script>",
      "text/html": [
       "<div id=\"3dmolviewer_15706117178001757\"  style=\"position: relative; width: 400px; height: 400px\">\n",
       "        <p id=\"3dmolwarning_15706117178001757\" style=\"background-color:#ffcccc;color:black\">You appear to be running in JupyterLab (or JavaScript failed to load for some other reason).  You need to install the 3dmol extension: <br>\n",
       "        <tt>jupyter labextension install jupyterlab_3dmol</tt></p>\n",
       "        </div>\n",
       "<script>\n",
       "\n",
       "var loadScriptAsync = function(uri){\n",
       "  return new Promise((resolve, reject) => {\n",
       "    var tag = document.createElement('script');\n",
       "    tag.src = uri;\n",
       "    tag.async = true;\n",
       "    tag.onload = () => {\n",
       "      resolve();\n",
       "    };\n",
       "  var firstScriptTag = document.getElementsByTagName('script')[0];\n",
       "  firstScriptTag.parentNode.insertBefore(tag, firstScriptTag);\n",
       "});\n",
       "};\n",
       "\n",
       "if(typeof $3Dmolpromise === 'undefined') {\n",
       "$3Dmolpromise = null;\n",
       "  $3Dmolpromise = loadScriptAsync('https://3dmol.csb.pitt.edu/build/3Dmol.js');\n",
       "}\n",
       "\n",
       "var viewer_15706117178001757 = null;\n",
       "var warn = document.getElementById(\"3dmolwarning_15706117178001757\");\n",
       "if(warn) {\n",
       "    warn.parentNode.removeChild(warn);\n",
       "}\n",
       "$3Dmolpromise.then(function() {\n",
       "viewer_15706117178001757 = $3Dmol.createViewer($(\"#3dmolviewer_15706117178001757\"),{backgroundColor:\"white\"});\n",
       "\tviewer_15706117178001757.addModel(\"\\n     RDKit          3D\\n\\n 24 25  0  0  0  0  0  0  0  0999 V2000\\n    3.1805   -0.9798   -0.1737 C   0  0  0  0  0  0  0  0  0  0  0  0\\n    2.1490    0.0036    0.0009 N   0  0  0  0  0  0  0  0  0  0  0  0\\n    2.4044    1.3066    0.2275 C   0  0  0  0  0  0  0  0  0  0  0  0\\n    1.2369    1.9919    0.3506 N   0  0  0  0  0  0  0  0  0  0  0  0\\n    0.2253    1.1226    0.2020 C   0  0  0  0  0  0  0  0  0  0  0  0\\n    0.8240   -0.1010   -0.0133 C   0  0  0  0  0  0  0  0  0  0  0  0\\n    0.0131   -1.1928   -0.2013 C   0  0  0  0  0  0  0  0  0  0  0  0\\n    0.5006   -2.3316   -0.4015 O   0  0  0  0  0  0  0  0  0  0  0  0\\n   -1.3259   -1.0806   -0.1777 N   0  0  0  0  0  0  0  0  0  0  0  0\\n   -1.8519    0.1449    0.0377 C   0  0  0  0  0  0  0  0  0  0  0  0\\n   -3.1156    0.2722    0.0637 O   0  0  0  0  0  0  0  0  0  0  0  0\\n   -1.1257    1.2519    0.2286 N   0  0  0  0  0  0  0  0  0  0  0  0\\n   -1.7278    2.5589    0.4584 C   0  0  0  0  0  0  0  0  0  0  0  0\\n   -2.2013   -2.2330   -0.3761 C   0  0  0  0  0  0  0  0  0  0  0  0\\n    2.8989   -1.9991    0.0607 H   0  0  0  0  0  0  0  0  0  0  0  0\\n    3.5927   -0.8449   -1.2107 H   0  0  0  0  0  0  0  0  0  0  0  0\\n    4.0480   -0.7169    0.5011 H   0  0  0  0  0  0  0  0  0  0  0  0\\n    3.3796    1.7849    0.3080 H   0  0  0  0  0  0  0  0  0  0  0  0\\n   -1.4059    3.2337   -0.3664 H   0  0  0  0  0  0  0  0  0  0  0  0\\n   -1.5076    2.9399    1.4587 H   0  0  0  0  0  0  0  0  0  0  0  0\\n   -2.8327    2.4282    0.3794 H   0  0  0  0  0  0  0  0  0  0  0  0\\n   -2.6928   -2.5333    0.5754 H   0  0  0  0  0  0  0  0  0  0  0  0\\n   -3.0251   -1.9703   -1.0810 H   0  0  0  0  0  0  0  0  0  0  0  0\\n   -1.6405   -3.0560   -0.8512 H   0  0  0  0  0  0  0  0  0  0  0  0\\n  1  2  1  0\\n  2  3  1  0\\n  3  4  2  0\\n  4  5  1  0\\n  5  6  2  0\\n  6  7  1  0\\n  7  8  2  0\\n  7  9  1  0\\n  9 10  1  0\\n 10 11  2  0\\n 10 12  1  0\\n 12 13  1  0\\n  9 14  1  0\\n  6  2  1  0\\n 12  5  1  0\\n  1 15  1  0\\n  1 16  1  0\\n  1 17  1  0\\n  3 18  1  0\\n 13 19  1  0\\n 13 20  1  0\\n 13 21  1  0\\n 14 22  1  0\\n 14 23  1  0\\n 14 24  1  0\\nM  END\\n\",\"sdf\");\n",
       "\tviewer_15706117178001757.setStyle({\"stick\": {}});\n",
       "\tviewer_15706117178001757.setBackgroundColor(\"0xffffff\");\n",
       "\tviewer_15706117178001757.zoomTo();\n",
       "viewer_15706117178001757.render();\n",
       "});\n",
       "</script>"
      ]
     },
     "metadata": {},
     "output_type": "display_data"
    }
   ],
   "source": [
    "m = Chem.AddHs(Chem.MolFromSmiles('CN1C=NC2=C1C(=O)N(C(=O)N2C)C'))\n",
    "AllChem.EmbedMultipleConfs(m ,useExpTorsionAnglePrefs=True, useBasicKnowledge=True)\n",
    "mb = Chem.MolToMolBlock(m)\n",
    "p = py3Dmol.view(width=400,height=400)\n",
    "p.addModel(mb, 'sdf')\n",
    "p.setStyle({'stick':{}})\n",
    "p.setBackgroundColor('0xffffff')\n",
    "p.zoomTo()\n",
    "p.show()"
   ]
  },
  {
   "cell_type": "markdown",
   "metadata": {},
   "source": [
    "# Try some molecules yourself!\n",
    "\n",
    "(Hint: ignore Hydrogen atoms for now)\n",
    "\n",
    "1. Alcohol (Ethanol) <img src=\"https://upload.wikimedia.org/wikipedia/commons/thumb/e/e8/Ethanol-structure.svg/1200px-Ethanol-structure.svg.png\" width=\"200\" height=\"200\" alt=\"Image of Ethanol molecule\" />\n",
    "2. Vitamin C (Ascorbic Acid) <img src=\"https://upload.wikimedia.org/wikipedia/commons/thumb/e/e7/L-Ascorbic_acid.svg/1200px-L-Ascorbic_acid.svg.png\" width=\"200\" height=\"200\" alt=\"Image of Ascorbic Acid molecule\" />\n",
    "3. Cocaine (Benzoylmethylecgonine) <img src=\"https://upload.wikimedia.org/wikipedia/commons/thumb/6/66/Kokain_-_Cocaine.svg/1200px-Kokain_-_Cocaine.svg.png\" width=\"200\" height=\"200\" alt=\"Image of Ascorbic Acid molecule\" />\n",
    "4. Viagra (Sildenafil) <img src=\"https://upload.wikimedia.org/wikipedia/commons/thumb/d/d3/Sildenafil_structure.svg/250px-Sildenafil_structure.svg.png\" width=\"200\" height=\"200\" alt=\"Image of Ascorbic Acid molecule\" />\n",
    "\n"
   ]
  },
  {
   "cell_type": "code",
   "execution_count": 8,
   "metadata": {},
   "outputs": [
    {
     "data": {
      "application/3dmoljs_load.v0": "<div id=\"3dmolviewer_15706117231050224\"  style=\"position: relative; width: 640px; height: 480px\">\n        <p id=\"3dmolwarning_15706117231050224\" style=\"background-color:#ffcccc;color:black\">You appear to be running in JupyterLab (or JavaScript failed to load for some other reason).  You need to install the 3dmol extension: <br>\n        <tt>jupyter labextension install jupyterlab_3dmol</tt></p>\n        </div>\n<script>\n\nvar loadScriptAsync = function(uri){\n  return new Promise((resolve, reject) => {\n    var tag = document.createElement('script');\n    tag.src = uri;\n    tag.async = true;\n    tag.onload = () => {\n      resolve();\n    };\n  var firstScriptTag = document.getElementsByTagName('script')[0];\n  firstScriptTag.parentNode.insertBefore(tag, firstScriptTag);\n});\n};\n\nif(typeof $3Dmolpromise === 'undefined') {\n$3Dmolpromise = null;\n  $3Dmolpromise = loadScriptAsync('https://3dmol.csb.pitt.edu/build/3Dmol.js');\n}\n\nvar viewer_15706117231050224 = null;\nvar warn = document.getElementById(\"3dmolwarning_15706117231050224\");\nif(warn) {\n    warn.parentNode.removeChild(warn);\n}\n$3Dmolpromise.then(function() {\nviewer_15706117231050224 = $3Dmol.createViewer($(\"#3dmolviewer_15706117231050224\"),{backgroundColor:\"white\"});\n$3Dmol.download(\"pdb:1pwc\", viewer_15706117231050224, {\"multimodel\": true}, function() {\n\tviewer_15706117231050224.setStyle({\"chain\": \"A\"},{\"stick\": {\"color\": \"spectrum\"}});\nviewer_15706117231050224.render();\n})\n});\n</script>",
      "text/html": [
       "<div id=\"3dmolviewer_15706117231050224\"  style=\"position: relative; width: 640px; height: 480px\">\n",
       "        <p id=\"3dmolwarning_15706117231050224\" style=\"background-color:#ffcccc;color:black\">You appear to be running in JupyterLab (or JavaScript failed to load for some other reason).  You need to install the 3dmol extension: <br>\n",
       "        <tt>jupyter labextension install jupyterlab_3dmol</tt></p>\n",
       "        </div>\n",
       "<script>\n",
       "\n",
       "var loadScriptAsync = function(uri){\n",
       "  return new Promise((resolve, reject) => {\n",
       "    var tag = document.createElement('script');\n",
       "    tag.src = uri;\n",
       "    tag.async = true;\n",
       "    tag.onload = () => {\n",
       "      resolve();\n",
       "    };\n",
       "  var firstScriptTag = document.getElementsByTagName('script')[0];\n",
       "  firstScriptTag.parentNode.insertBefore(tag, firstScriptTag);\n",
       "});\n",
       "};\n",
       "\n",
       "if(typeof $3Dmolpromise === 'undefined') {\n",
       "$3Dmolpromise = null;\n",
       "  $3Dmolpromise = loadScriptAsync('https://3dmol.csb.pitt.edu/build/3Dmol.js');\n",
       "}\n",
       "\n",
       "var viewer_15706117231050224 = null;\n",
       "var warn = document.getElementById(\"3dmolwarning_15706117231050224\");\n",
       "if(warn) {\n",
       "    warn.parentNode.removeChild(warn);\n",
       "}\n",
       "$3Dmolpromise.then(function() {\n",
       "viewer_15706117231050224 = $3Dmol.createViewer($(\"#3dmolviewer_15706117231050224\"),{backgroundColor:\"white\"});\n",
       "$3Dmol.download(\"pdb:1pwc\", viewer_15706117231050224, {\"multimodel\": true}, function() {\n",
       "\tviewer_15706117231050224.setStyle({\"chain\": \"A\"},{\"stick\": {\"color\": \"spectrum\"}});\n",
       "viewer_15706117231050224.render();\n",
       "})\n",
       "});\n",
       "</script>"
      ]
     },
     "metadata": {},
     "output_type": "display_data"
    },
    {
     "data": {
      "text/plain": [
       "<py3Dmol.view at 0x7febe611fb90>"
      ]
     },
     "execution_count": 8,
     "metadata": {},
     "output_type": "execute_result"
    }
   ],
   "source": [
    "# Proteins are much larger complexes, sometimes called macromolecules\n",
    "view = py3Dmol.view(query='pdb:1pwc', options={'multimodel':True})\n",
    "view.setStyle({'chain':'A'}, {'stick':{'color':'spectrum'}})\n",
    "#view.addSurface(\"VDW\", {'opacity': 0.6});\n",
    "view"
   ]
  },
  {
   "cell_type": "markdown",
   "metadata": {},
   "source": [
    "Now have a look at __penicillin__ (a famous antibacterial) discovered accidentally by Sir Alexander Fleming."
   ]
  },
  {
   "cell_type": "code",
   "execution_count": 9,
   "metadata": {},
   "outputs": [
    {
     "data": {
      "application/3dmoljs_load.v0": "<div id=\"3dmolviewer_1570611723966392\"  style=\"position: relative; width: 640px; height: 480px\">\n        <p id=\"3dmolwarning_1570611723966392\" style=\"background-color:#ffcccc;color:black\">You appear to be running in JupyterLab (or JavaScript failed to load for some other reason).  You need to install the 3dmol extension: <br>\n        <tt>jupyter labextension install jupyterlab_3dmol</tt></p>\n        </div>\n<script>\n\nvar loadScriptAsync = function(uri){\n  return new Promise((resolve, reject) => {\n    var tag = document.createElement('script');\n    tag.src = uri;\n    tag.async = true;\n    tag.onload = () => {\n      resolve();\n    };\n  var firstScriptTag = document.getElementsByTagName('script')[0];\n  firstScriptTag.parentNode.insertBefore(tag, firstScriptTag);\n});\n};\n\nif(typeof $3Dmolpromise === 'undefined') {\n$3Dmolpromise = null;\n  $3Dmolpromise = loadScriptAsync('https://3dmol.csb.pitt.edu/build/3Dmol.js');\n}\n\nvar viewer_1570611723966392 = null;\nvar warn = document.getElementById(\"3dmolwarning_1570611723966392\");\nif(warn) {\n    warn.parentNode.removeChild(warn);\n}\n$3Dmolpromise.then(function() {\nviewer_1570611723966392 = $3Dmol.createViewer($(\"#3dmolviewer_1570611723966392\"),{backgroundColor:\"white\"});\n$3Dmol.download(\"pdb:1pwc\", viewer_1570611723966392, {}, function() {\n\tviewer_1570611723966392.setStyle({\"chain\": \"A\"},{\"stick\": {}});\n\tviewer_1570611723966392.setStyle({\"resn\": \"PNM\"},{\"stick\": {\"colorscheme\": \"yellowCarbon\"}});\n\tviewer_1570611723966392.addSurface(\"VDW\",{\"opacity\": 0.9},{\"hetflag\": false});\n\tviewer_1570611723966392.zoomTo({\"resn\": \"PNM\"});\nviewer_1570611723966392.render();\n})\n});\n</script>",
      "text/html": [
       "<div id=\"3dmolviewer_1570611723966392\"  style=\"position: relative; width: 640px; height: 480px\">\n",
       "        <p id=\"3dmolwarning_1570611723966392\" style=\"background-color:#ffcccc;color:black\">You appear to be running in JupyterLab (or JavaScript failed to load for some other reason).  You need to install the 3dmol extension: <br>\n",
       "        <tt>jupyter labextension install jupyterlab_3dmol</tt></p>\n",
       "        </div>\n",
       "<script>\n",
       "\n",
       "var loadScriptAsync = function(uri){\n",
       "  return new Promise((resolve, reject) => {\n",
       "    var tag = document.createElement('script');\n",
       "    tag.src = uri;\n",
       "    tag.async = true;\n",
       "    tag.onload = () => {\n",
       "      resolve();\n",
       "    };\n",
       "  var firstScriptTag = document.getElementsByTagName('script')[0];\n",
       "  firstScriptTag.parentNode.insertBefore(tag, firstScriptTag);\n",
       "});\n",
       "};\n",
       "\n",
       "if(typeof $3Dmolpromise === 'undefined') {\n",
       "$3Dmolpromise = null;\n",
       "  $3Dmolpromise = loadScriptAsync('https://3dmol.csb.pitt.edu/build/3Dmol.js');\n",
       "}\n",
       "\n",
       "var viewer_1570611723966392 = null;\n",
       "var warn = document.getElementById(\"3dmolwarning_1570611723966392\");\n",
       "if(warn) {\n",
       "    warn.parentNode.removeChild(warn);\n",
       "}\n",
       "$3Dmolpromise.then(function() {\n",
       "viewer_1570611723966392 = $3Dmol.createViewer($(\"#3dmolviewer_1570611723966392\"),{backgroundColor:\"white\"});\n",
       "$3Dmol.download(\"pdb:1pwc\", viewer_1570611723966392, {}, function() {\n",
       "\tviewer_1570611723966392.setStyle({\"chain\": \"A\"},{\"stick\": {}});\n",
       "\tviewer_1570611723966392.setStyle({\"resn\": \"PNM\"},{\"stick\": {\"colorscheme\": \"yellowCarbon\"}});\n",
       "\tviewer_1570611723966392.addSurface(\"VDW\",{\"opacity\": 0.9},{\"hetflag\": false});\n",
       "\tviewer_1570611723966392.zoomTo({\"resn\": \"PNM\"});\n",
       "viewer_1570611723966392.render();\n",
       "})\n",
       "});\n",
       "</script>"
      ]
     },
     "metadata": {},
     "output_type": "display_data"
    }
   ],
   "source": [
    "view = py3Dmol.view(query='pdb:1pwc')\n",
    "view.setStyle({'chain':'A'}, {'stick':{}})\n",
    "view.setStyle({'resn':'PNM'}, {'stick':{'colorscheme':'yellowCarbon'}})\n",
    "view.addSurface(\"VDW\", {'opacity': 0.9},{'hetflag':False});\n",
    "view.zoomTo({'resn':'PNM'})\n",
    "view.show()"
   ]
  },
  {
   "cell_type": "code",
   "execution_count": null,
   "metadata": {},
   "outputs": [],
   "source": []
  }
 ],
 "metadata": {
  "kernelspec": {
   "display_name": "Python 3",
   "language": "python",
   "name": "python3"
  },
  "language_info": {
   "codemirror_mode": {
    "name": "ipython",
    "version": 3
   },
   "file_extension": ".py",
   "mimetype": "text/x-python",
   "name": "python",
   "nbconvert_exporter": "python",
   "pygments_lexer": "ipython3",
   "version": "3.7.4"
  }
 },
 "nbformat": 4,
 "nbformat_minor": 2
}
